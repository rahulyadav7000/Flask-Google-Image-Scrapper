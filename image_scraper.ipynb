{
 "cells": [
  {
   "cell_type": "code",
   "execution_count": 1,
   "id": "8441dae7-1cc1-49d3-9f05-4acb5f8a80f0",
   "metadata": {},
   "outputs": [],
   "source": [
    "import requests\n",
    "import logging\n",
    "import os\n",
    "from bs4 import BeautifulSoup\n",
    "from urllib.request import urlopen\n"
   ]
  },
  {
   "cell_type": "code",
   "execution_count": 3,
   "id": "f32be50b-69fd-48b9-a901-1090e590f514",
   "metadata": {},
   "outputs": [],
   "source": [
    "save_dir = \"images/\"\n",
    "if not os.path.exists(save_dir):\n",
    "    os.makedirs(save_dir)"
   ]
  },
  {
   "cell_type": "code",
   "execution_count": 4,
   "id": "4e293703-0939-4028-a084-06a60f94b957",
   "metadata": {},
   "outputs": [],
   "source": [
    "query = \"elon musk\"\n",
    "#url = https://www.google.com/search?q=query&sca_esv=7fcdb3edaabbf89a&rlz=1C1RXQR_enIN1020IN1020&biw=1536&bih=730&sxsrf=ADLYWILk2_78IREGFJiYHvZmjUlvffDeFQ%3A1714806993700&ei=0eA1ZtSoKvKaseMPw-WOsAg&ved=0ahUKEwiU1d7tufOFAxVyTWwGHcOyA4YQ4dUDCBE&uact=5&oq=chandrayaan+3&gs_lp=Egxnd3Mtd2l6LXNlcnAiDWNoYW5kcmF5YWFuIDMyChAAGLADGNYEGEcyChAAGLADGNYEGEcyChAAGLADGNYEGEcyChAAGLADGNYEGEcyChAAGLADGNYEGEcyChAAGLADGNYEGEcyChAAGLADGNYEGEcyChAAGLADGNYEGEcyDRAAGIAEGLADGEMYigUyDRAAGIAEGLADGEMYigVIoRFQvwRYmg1wAngBkAEAmAGNAaABjQGqAQMwLjG4AQPIAQD4AQGYAgOgAsMBwgIKECMYgAQYJxiKBcICChAAGIAEGEMYigXCAgUQABiABMICCxAAGIAEGLEDGIMBwgINEAAYgAQYsQMYQxiKBcICCBAAGIAEGLEDmAMAiAYBkAYKkgcDMi4xoAfbBg&sclient=gws-wiz-serp"
   ]
  },
  {
   "cell_type": "code",
   "execution_count": 7,
   "id": "483ce5f3-9967-4aff-b6fc-b2ba0b5445cf",
   "metadata": {},
   "outputs": [],
   "source": [
    "response = requests.get(f\"https://www.google.com/search?sca_esv=7fcdb3edaabbf89a&rlz=1C1RXQR_enIN1020IN1020&sxsrf=ADLYWIJ6MfEmaNUOoxM4X3X7hnUtsE1qsA:1714807140153&q={query}&uds=ADvngMj5Wv8Vv2Ze7WMSqfJvdEJxLcBmFaai7QNsJksHnYtZJygsJ8LnVJ3Xl7GOOsv1NCF4OPMmVCZY-MQYkhKy05732kv5O41lucVMMBSvusbVoM9NadVEawy8qa1f9jwRSMjN5A8Aqhsw6tNTCOQyWfzFZs3tE84PvrTJh6MHT40bVkq2xZWHxJST8BHBb7TSSEQu3SAwSvTSKuwHZbEHSnlb6aSCvyF-0s9ygu0kCamvYu_ZON31VrovX51ya9_dS6jgx-tiW8HDl0aQfKCuXkIZ1mI3hcxqECEL5ktM0Pn2HHz8hck&udm=2&prmd=nivsmbtz&sa=X&ved=2ahUKEwjNs8mzuvOFAxUccWwGHQ0xBvQQtKgLegQIDBAB&biw=1536&bih=730&dpr=1.25\")"
   ]
  },
  {
   "cell_type": "code",
   "execution_count": 8,
   "id": "b19fc25e-226f-48a3-8268-435caaa3b09f",
   "metadata": {},
   "outputs": [
    {
     "data": {
      "text/plain": [
       "<Response [200]>"
      ]
     },
     "execution_count": 8,
     "metadata": {},
     "output_type": "execute_result"
    }
   ],
   "source": [
    "response"
   ]
  },
  {
   "cell_type": "code",
   "execution_count": 10,
   "id": "a15f85d5-393e-44f7-85d6-4ad446353e28",
   "metadata": {},
   "outputs": [],
   "source": [
    "soup = BeautifulSoup(response.content,\"html.parser\")"
   ]
  },
  {
   "cell_type": "code",
   "execution_count": 11,
   "id": "19b033bd-4f26-40aa-a883-f00b5fbd47b1",
   "metadata": {},
   "outputs": [
    {
     "data": {
      "text/plain": [
       "<!DOCTYPE html PUBLIC \"-//WAPFORUM//DTD XHTML Mobile 1.0//EN\" \"http://www.wapforum.org/DTD/xhtml-mobile10.dtd\">\n",
       "<html lang=\"en-IN\" xmlns=\"http://www.w3.org/1999/xhtml\"><head><meta content=\"application/xhtml+xml; charset=utf-8\" http-equiv=\"Content-Type\"/><meta content=\"no-cache\" name=\"Cache-Control\"/><title>elon musk - Google Search</title><style>a{text-decoration:none;color:inherit}a:hover{text-decoration:underline}a img{border:0}body{font-family:arial,sans-serif;padding:8px;margin:0 auto;max-width:700px;min-width:240px;}.FbhRzb{border-left:thin solid #dadce0;border-right:thin solid #dadce0;border-top:thin solid #dadce0;height:40px;overflow:hidden}.n692Zd{margin-bottom:10px}.cvifge{height:40px;border-spacing:0}.QvGUP{height:40px;padding:0 8px 0 8px;vertical-align:top}.O4cRJf{height:40px;width:100%;padding:0;padding-right:16px}.O1ePr{height:40px;padding:0;vertical-align:top}.kgJEQe{height:36px;width:98px;vertical-align:top;margin-top:4px}.lXLRf{vertical-align:top}.MhzMZd{border:0;vertical-align:middle;font-size:14px;height:40px;padding:0;width:100%;padding-left:16px}.xB0fq{height:40px;border:none;font-size:14px;background-color:#1a73e8;color:#fff;padding:0 16px;margin:0;vertical-align:top;cursor:pointer}.xB0fq:focus{border:1px solid #1a73e8}.M7pB2{border:thin solid #dadce0;margin:0 0 3px 0;font-size:13px;font-weight:500;height:40px}.euZec{width:100%;height:40px;text-align:center;border-spacing:0}table.euZec td{padding:0;width:25%}.QIqI7{display:inline-block;padding-top:4px;font-weight:bold;color:#4285f4}.EY24We{border-bottom:2px solid #4285f4}.CsQyDc{display:inline-block;color:#70757a}.TuS8Ad{font-size:14px}.HddGcc{padding:8px;color:#70757a}.dzp8ae{font-weight:bold;color:#3c4043}.rEM8G{color:#70757a}.bookcf{table-layout:fixed;width:100%;border-spacing:0}.InWNIe{text-align:center}.uZgmoc{border:thin solid #dadce0;color:#70757a;font-size:14px;text-align:center;table-layout:fixed;width:100%}.frGj1b{display:block;padding:12px 0 12px 0;width:100%}.BnJWBc{text-align:center;padding:6px 0 13px 0;height:35px}.e3goi{vertical-align:top;padding:0;height:180px}.GpQGbf{margin:auto;border-collapse:collapse;border-spacing:0;width:100%}</style></head><body><style>.X6ZCif{color:#202124;font-size:11px;line-height:16px;display:inline-block;padding-top:2px;overflow:hidden;padding-bottom:4px;width:100%}.TwVfHd{border-radius:16px;border:thin solid #dadce0;display:inline-block;padding:8px 8px;margin-right:8px;margin-bottom:4px}.yekiAe{background-color:#dadce0}.jjVJ4e{width:100%}.ezO2md{border:thin solid #dadce0;padding:12px 16px 12px 16px;margin-bottom:10px;font-family:arial,sans-serif}.lIMUZd{font-family:arial,sans-serif}.RntSmf{border-spacing:0}.lgD2Tc{width:100%}.SpelHe{text-align:center}.SpelHe{position:relative}.kCmkOe{position:relative}.kCmkOe{width:162px;height:140px;line-height:140px;overflow:'hidden';text-align:center}.DS1iW{text-align:center;margin:auto;vertical-align:middle;max-width:162px;max-height:140px}.AlD19d{padding-top:2px;padding-bottom:8px;}.fYyStc{word-break:break-word}.ynsChf{display:block;white-space:nowrap;overflow:hidden;text-overflow:ellipsis}.Fj3V3b{color:#1967d2;font-size:14px;line-height:20px}.FrIlee{color:#202124;font-size:11px;line-height:16px}.F9iS2e{color:#70757a;font-size:11px;line-height:16px}.WMQ2Le{color:#70757a;font-size:12px;line-height:16px}.x3G5ab{color:#202124;font-size:12px;line-height:16px}.fuLhoc{color:#1967d2;font-size:16px;line-height:20px}.epoveb{font-size:24px;line-height:28px;font-weight:400;color:#202124}.dXDvrc{color:#0d652d;font-size:14px;line-height:20px;word-wrap:break-word}.dloBPe{font-weight:bold}.YVIcad{color:#70757a}.JkVVdd{color:#ea4335}.oXZRFd{color:#ea4335}.MQHtg{color:#fbbc04}.pyMRrb{color:#1e8e3e}.EtTZid{color:#1e8e3e}.M3vVJe{color:#1967d2}.qXLe6d{display:block}.NHQNef{font-style:italic}.Cb8Z7c{white-space:pre}a.ZWRArf{text-decoration:none}a .CVA68e:hover{text-decoration:underline}</style><div class=\"n692Zd\"><div class=\"BnJWBc\"><a class=\"lXLRf\" href=\"/?sa=X&amp;sca_esv=7fcdb3edaabbf89a&amp;rlz=1C1RXQR_enIN1020IN1020&amp;biw=1536&amp;bih=730&amp;output=images&amp;ie=UTF-8&amp;tbm=isch&amp;ved=0ahUKEwjA3vqovfOFAxX3zjgGHfkaDpcQPAgC\"><img alt=\"Google\" class=\"kgJEQe\" src=\"/images/branding/searchlogo/1x/googlelogo_desk_heirloom_color_150x55dp.gif\"/></a></div><div class=\"FbhRzb\"><form action=\"/search\"><input name=\"sca_esv\" type=\"hidden\" value=\"7fcdb3edaabbf89a\"/><input name=\"rlz\" type=\"hidden\" value=\"1C1RXQR_enIN1020IN1020\"/><input name=\"biw\" type=\"hidden\" value=\"1536\"/><input name=\"bih\" type=\"hidden\" value=\"730\"/><input name=\"ie\" type=\"hidden\" value=\"ISO-8859-1\"/><input name=\"tbm\" type=\"hidden\" value=\"isch\"/><input name=\"oq\" type=\"hidden\"/><input name=\"aqs\" type=\"hidden\"/><table class=\"cvifge\"><tr><td class=\"O4cRJf\"><input class=\"MhzMZd\" name=\"q\" type=\"text\" value=\"elon musk\"/></td><td class=\"O1ePr\"><input class=\"xB0fq\" type=\"submit\" value=\"Search\"/></td></tr></table></form></div><div class=\"M7pB2\"><table class=\"euZec\"><tbody><tr><td><a class=\"CsQyDc\" href=\"/search?q=elon+musk&amp;sca_esv=7fcdb3edaabbf89a&amp;rlz=1C1RXQR_enIN1020IN1020&amp;biw=1536&amp;bih=730&amp;ie=UTF-8&amp;source=lnms&amp;uds=ADvngMj5Wv8Vv2Ze7WMSqfJvdEJxLcBmFaai7QNsJksHnYtZJygsJ8LnVJ3Xl7GOOsv1NCF4OPMmVCZY-MQYkhKy05732kv5O41lucVMMBSvusbVoM9NadVEawy8qa1f9jwRSMjN5A8Aqhsw6tNTCOQyWfzFZs3tE84PvrTJh6MHT40bVkq2xZWHxJST8BHBb7TSSEQu3SAwSvTSKuwHZbEHSnlb6aSCvyF-0s9ygu0kCamvYu_ZON31VrovX51ya9_dS6jgx-tiW8HDl0aQfKCuXkIZ1mI3hcxqECEL5ktM0Pn2HHz8hck&amp;sa=X&amp;ved=0ahUKEwjA3vqovfOFAxX3zjgGHfkaDpcQ_AUIBCgA\">ALL</a></td><td><a class=\"CsQyDc\" href=\"/search?q=elon+musk&amp;sca_esv=7fcdb3edaabbf89a&amp;rlz=1C1RXQR_enIN1020IN1020&amp;biw=1536&amp;bih=730&amp;ie=UTF-8&amp;tbm=nws&amp;source=lnms&amp;uds=ADvngMj5Wv8Vv2Ze7WMSqfJvdEJxLcBmFaai7QNsJksHnYtZJygsJ8LnVJ3Xl7GOOsv1NCF4OPMmVCZY-MQYkhKy05732kv5O41lucVMMBSvusbVoM9NadVEawy8qa1f9jwRSMjN5A8Aqhsw6tNTCOQyWfzFZs3tE84PvrTJh6MHT40bVkq2xZWHxJST8BHBb7TSSEQu3SAwSvTSKuwHZbEHSnlb6aSCvyF-0s9ygu0kCamvYu_ZON31VrovX51ya9_dS6jgx-tiW8HDl0aQfKCuXkIZ1mI3hcxqECEL5ktM0Pn2HHz8hck&amp;sa=X&amp;ved=0ahUKEwjA3vqovfOFAxX3zjgGHfkaDpcQ_AUIBSgB\">NEWS</a></td><td class=\"EY24We\"><span class=\"QIqI7\">IMAGES</span></td><td><a class=\"CsQyDc\" href=\"/search?q=elon+musk&amp;sca_esv=7fcdb3edaabbf89a&amp;rlz=1C1RXQR_enIN1020IN1020&amp;biw=1536&amp;bih=730&amp;ie=UTF-8&amp;tbm=vid&amp;source=lnms&amp;uds=ADvngMj5Wv8Vv2Ze7WMSqfJvdEJxLcBmFaai7QNsJksHnYtZJygsJ8LnVJ3Xl7GOOsv1NCF4OPMmVCZY-MQYkhKy05732kv5O41lucVMMBSvusbVoM9NadVEawy8qa1f9jwRSMjN5A8Aqhsw6tNTCOQyWfzFZs3tE84PvrTJh6MHT40bVkq2xZWHxJST8BHBb7TSSEQu3SAwSvTSKuwHZbEHSnlb6aSCvyF-0s9ygu0kCamvYu_ZON31VrovX51ya9_dS6jgx-tiW8HDl0aQfKCuXkIZ1mI3hcxqECEL5ktM0Pn2HHz8hck&amp;sa=X&amp;ved=0ahUKEwjA3vqovfOFAxX3zjgGHfkaDpcQ_AUIBygD\">VIDEOS</a></td></tr></tbody></table></div></div><div class=\"X6ZCif\"><a class=\"TwVfHd\" href=\"/search?sca_esv=7fcdb3edaabbf89a&amp;rlz=1C1RXQR_enIN1020IN1020&amp;biw=1536&amp;bih=730&amp;ie=UTF-8&amp;tbm=isch&amp;q=elon+musk&amp;chips=q:elon+musk,g_1:tesla&amp;sa=X&amp;ved=0ahUKEwjA3vqovfOFAxX3zjgGHfkaDpcQ4lYICygA\">tesla</a><a class=\"TwVfHd\" href=\"/search?sca_esv=7fcdb3edaabbf89a&amp;rlz=1C1RXQR_enIN1020IN1020&amp;biw=1536&amp;bih=730&amp;ie=UTF-8&amp;tbm=isch&amp;q=elon+musk&amp;chips=q:elon+musk,g_1:spacex&amp;sa=X&amp;ved=0ahUKEwjA3vqovfOFAxX3zjgGHfkaDpcQ4lYIDCgB\">spacex</a><a class=\"TwVfHd\" href=\"/search?sca_esv=7fcdb3edaabbf89a&amp;rlz=1C1RXQR_enIN1020IN1020&amp;biw=1536&amp;bih=730&amp;ie=UTF-8&amp;tbm=isch&amp;q=elon+musk&amp;chips=q:elon+musk,g_1:rocket&amp;sa=X&amp;ved=0ahUKEwjA3vqovfOFAxX3zjgGHfkaDpcQ4lYIDSgC\">rocket</a><a class=\"TwVfHd\" href=\"/search?sca_esv=7fcdb3edaabbf89a&amp;rlz=1C1RXQR_enIN1020IN1020&amp;biw=1536&amp;bih=730&amp;ie=UTF-8&amp;tbm=isch&amp;q=elon+musk&amp;chips=q:elon+musk,g_1:car&amp;sa=X&amp;ved=0ahUKEwjA3vqovfOFAxX3zjgGHfkaDpcQ4lYIDigD\">car</a><a class=\"TwVfHd\" href=\"/search?sca_esv=7fcdb3edaabbf89a&amp;rlz=1C1RXQR_enIN1020IN1020&amp;biw=1536&amp;bih=730&amp;ie=UTF-8&amp;tbm=isch&amp;q=elon+musk&amp;chips=q:elon+musk,g_1:grimes&amp;sa=X&amp;ved=0ahUKEwjA3vqovfOFAxX3zjgGHfkaDpcQ4lYIDygE\">grimes</a><a class=\"TwVfHd\" href=\"/search?sca_esv=7fcdb3edaabbf89a&amp;rlz=1C1RXQR_enIN1020IN1020&amp;biw=1536&amp;bih=730&amp;ie=UTF-8&amp;tbm=isch&amp;q=elon+musk&amp;chips=q:elon+musk,g_1:twitter&amp;sa=X&amp;ved=0ahUKEwjA3vqovfOFAxX3zjgGHfkaDpcQ4lYIECgF\">twitter</a><a class=\"TwVfHd\" href=\"/search?sca_esv=7fcdb3edaabbf89a&amp;rlz=1C1RXQR_enIN1020IN1020&amp;biw=1536&amp;bih=730&amp;ie=UTF-8&amp;tbm=isch&amp;q=elon+musk&amp;chips=q:elon+musk,g_1:early&amp;sa=X&amp;ved=0ahUKEwjA3vqovfOFAxX3zjgGHfkaDpcQ4lYIESgG\">early</a><a class=\"TwVfHd\" href=\"/search?sca_esv=7fcdb3edaabbf89a&amp;rlz=1C1RXQR_enIN1020IN1020&amp;biw=1536&amp;bih=730&amp;ie=UTF-8&amp;tbm=isch&amp;q=elon+musk&amp;chips=q:elon+musk,g_1:paypal&amp;sa=X&amp;ved=0ahUKEwjA3vqovfOFAxX3zjgGHfkaDpcQ4lYIEigH\">paypal</a><a class=\"TwVfHd\" href=\"/search?sca_esv=7fcdb3edaabbf89a&amp;rlz=1C1RXQR_enIN1020IN1020&amp;biw=1536&amp;bih=730&amp;ie=UTF-8&amp;tbm=isch&amp;q=elon+musk&amp;chips=q:elon+musk,g_1:old&amp;sa=X&amp;ved=0ahUKEwjA3vqovfOFAxX3zjgGHfkaDpcQ4lYIEygI\">old</a><a class=\"TwVfHd\" href=\"/search?sca_esv=7fcdb3edaabbf89a&amp;rlz=1C1RXQR_enIN1020IN1020&amp;biw=1536&amp;bih=730&amp;ie=UTF-8&amp;tbm=isch&amp;q=elon+musk&amp;chips=q:elon+musk,g_1:family&amp;sa=X&amp;ved=0ahUKEwjA3vqovfOFAxX3zjgGHfkaDpcQ4lYIFCgJ\">family</a></div><div><table class=\"GpQGbf\"><tr><td align=\"center\" class=\"e3goi\"><div class=\"jjVJ4e\"> <div> <div class=\"lIMUZd\"><div><table class=\"RntSmf\"><tr><td><a href=\"/url?q=https://en.wikipedia.org/wiki/Elon_Musk&amp;sa=U&amp;ved=2ahUKEwjA3vqovfOFAxX3zjgGHfkaDpcQqoUBegQIBhAB&amp;usg=AOvVaw1aDhp0yNn5s2G-zrA3ZMZg\"><div class=\"kCmkOe\"><img alt=\"\" class=\"DS1iW\" src=\"https://encrypted-tbn0.gstatic.com/images?q=tbn:ANd9GcQWIm8IhNbQ8cHHkx25dbTK7_RaRK8DrRrK4GrR4wyApiAsBJPUbhsa7ICjKg&amp;s\"/></div></a></td></tr><tr><td><a href=\"/url?q=https://en.wikipedia.org/wiki/Elon_Musk&amp;sa=U&amp;ved=2ahUKEwjA3vqovfOFAxX3zjgGHfkaDpcQr4kDegQIBhAC&amp;usg=AOvVaw142rRetVOXnYcRzwr1ZRZM\"><div class=\"AlD19d\"> <span class=\"qXLe6d x3G5ab\"> <span class=\"fYyStc\">Elon Musk - Wikipedia</span> </span> <span class=\"qXLe6d F9iS2e\"> <span class=\"fYyStc\">en.wikipedia.org</span> </span> </div></a></td></tr></table></div></div> </div> </div></td><td align=\"center\" class=\"e3goi\"><div class=\"jjVJ4e\"> <div> <div class=\"lIMUZd\"><div><table class=\"RntSmf\"><tr><td><a href=\"/url?q=https://www.britannica.com/money/Elon-Musk&amp;sa=U&amp;ved=2ahUKEwjA3vqovfOFAxX3zjgGHfkaDpcQqoUBegQIExAB&amp;usg=AOvVaw3nHus0047lFRNlJzdmNFvZ\"><div class=\"kCmkOe\"><img alt=\"\" class=\"DS1iW\" src=\"https://encrypted-tbn0.gstatic.com/images?q=tbn:ANd9GcQY_R5NSNoZkSlMo3hf86COGJ4fCv0s6Nx4k8uCGkWc6YGOn_m4-rIOQ3GhOhg&amp;s\"/></div></a></td></tr><tr><td><a href=\"/url?q=https://www.britannica.com/money/Elon-Musk&amp;sa=U&amp;ved=2ahUKEwjA3vqovfOFAxX3zjgGHfkaDpcQr4kDegQIExAC&amp;usg=AOvVaw2XQRrJJA0x1IALi3yTyyMa\"><div class=\"AlD19d\"> <span class=\"qXLe6d x3G5ab\"> <span class=\"fYyStc\">Elon Musk | Biography,...</span> </span> <span class=\"qXLe6d F9iS2e\"> <span class=\"fYyStc\">www.britannica.com</span> </span> </div></a></td></tr></table></div></div> </div> </div></td><td align=\"center\" class=\"e3goi\"><div class=\"jjVJ4e\"> <div> <div class=\"lIMUZd\"><div><table class=\"RntSmf\"><tr><td><a href=\"/url?q=https://www.investopedia.com/articles/personal-finance/061015/how-elon-musk-became-elon-musk.asp&amp;sa=U&amp;ved=2ahUKEwjA3vqovfOFAxX3zjgGHfkaDpcQqoUBegQIEhAB&amp;usg=AOvVaw2mHPpHlQN4xN_Ed7Y-Kf31\"><div class=\"kCmkOe\"><img alt=\"\" class=\"DS1iW\" src=\"https://encrypted-tbn0.gstatic.com/images?q=tbn:ANd9GcTTO0bYn7LKOBzOMJRp9mXeD2scBnuMtPGfQYqjaBoxMHMtDToYys4awIx7ou8&amp;s\"/></div></a></td></tr><tr><td><a href=\"/url?q=https://www.investopedia.com/articles/personal-finance/061015/how-elon-musk-became-elon-musk.asp&amp;sa=U&amp;ved=2ahUKEwjA3vqovfOFAxX3zjgGHfkaDpcQr4kDegQIEhAC&amp;usg=AOvVaw2xOWBnkgXTouuHNCCjw33w\"><div class=\"AlD19d\"> <span class=\"qXLe6d x3G5ab\"> <span class=\"fYyStc\">Who Is Elon Musk?</span> </span> <span class=\"qXLe6d F9iS2e\"> <span class=\"fYyStc\">www.investopedia.com</span> </span> </div></a></td></tr></table></div></div> </div> </div></td><td align=\"center\" class=\"e3goi\"><div class=\"jjVJ4e\"> <div> <div class=\"lIMUZd\"><div><table class=\"RntSmf\"><tr><td><a href=\"/url?q=https://www.livemint.com/news/india/elon-musk-gets-schooled-on-free-speech-by-user-whose-account-was-blocked-x-honcho-says-must-respect-laws-of-country-11714709546628.html&amp;sa=U&amp;ved=2ahUKEwjA3vqovfOFAxX3zjgGHfkaDpcQqoUBegQIERAB&amp;usg=AOvVaw0zc-PVcC0YzlfW6Jh-wcM2\"><div class=\"kCmkOe\"><img alt=\"\" class=\"DS1iW\" src=\"https://encrypted-tbn0.gstatic.com/images?q=tbn:ANd9GcTgjHQAVrJsAsWEK6K8u9ZyH4PUENz2q9xBs-pEuAQrcR5x4cbvpGy_1wfS0A&amp;s\"/></div></a></td></tr><tr><td><a href=\"/url?q=https://www.livemint.com/news/india/elon-musk-gets-schooled-on-free-speech-by-user-whose-account-was-blocked-x-honcho-says-must-respect-laws-of-country-11714709546628.html&amp;sa=U&amp;ved=2ahUKEwjA3vqovfOFAxX3zjgGHfkaDpcQr4kDegQIERAC&amp;usg=AOvVaw0ufwE4veddkUaSZ7e0Llsp\"><div class=\"AlD19d\"> <span class=\"qXLe6d x3G5ab\"> <span class=\"fYyStc\">Elon Musk gets schooled on...</span> </span> <span class=\"qXLe6d F9iS2e\"> <span class=\"fYyStc\">www.livemint.com</span> </span> </div></a></td></tr></table></div></div> </div> </div></td></tr><tr><td align=\"center\" class=\"e3goi\"><div class=\"jjVJ4e\"> <div> <div class=\"lIMUZd\"><div><table class=\"RntSmf\"><tr><td><a href=\"/url?q=https://www.biography.com/business-leaders/elon-musk&amp;sa=U&amp;ved=2ahUKEwjA3vqovfOFAxX3zjgGHfkaDpcQqoUBegQIEBAB&amp;usg=AOvVaw1h-2bxs5jr9GjuW-5on3f9\"><div class=\"kCmkOe\"><img alt=\"\" class=\"DS1iW\" src=\"https://encrypted-tbn0.gstatic.com/images?q=tbn:ANd9GcSWquD3V9PShopfxR5z4mBgB3IZnXGWVDSQM_48N0nbiI_0DYg43GVIktea3Uc&amp;s\"/></div></a></td></tr><tr><td><a href=\"/url?q=https://www.biography.com/business-leaders/elon-musk&amp;sa=U&amp;ved=2ahUKEwjA3vqovfOFAxX3zjgGHfkaDpcQr4kDegQIEBAC&amp;usg=AOvVaw0SEaTFNmR0kASLOPZN6_fh\"><div class=\"AlD19d\"> <span class=\"qXLe6d x3G5ab\"> <span class=\"fYyStc\">Elon Musk - Tesla, Age &amp;...</span> </span> <span class=\"qXLe6d F9iS2e\"> <span class=\"fYyStc\">www.biography.com</span> </span> </div></a></td></tr></table></div></div> </div> </div></td><td align=\"center\" class=\"e3goi\"><div class=\"jjVJ4e\"> <div> <div class=\"lIMUZd\"><div><table class=\"RntSmf\"><tr><td><a href=\"/url?q=https://www.nmspacemuseum.org/inductee/elon-musk/&amp;sa=U&amp;ved=2ahUKEwjA3vqovfOFAxX3zjgGHfkaDpcQqoUBegQICRAB&amp;usg=AOvVaw2PLoVgsmF0CF8NhxrfZlNn\"><div class=\"kCmkOe\"><img alt=\"\" class=\"DS1iW\" src=\"https://encrypted-tbn0.gstatic.com/images?q=tbn:ANd9GcSjJei_3RFcnMaHSuWdLGH0p6RssgNveUT0ha8zZLaPf5nAvJfIa9T9pOZL978&amp;s\"/></div></a></td></tr><tr><td><a href=\"/url?q=https://www.nmspacemuseum.org/inductee/elon-musk/&amp;sa=U&amp;ved=2ahUKEwjA3vqovfOFAxX3zjgGHfkaDpcQr4kDegQICRAC&amp;usg=AOvVaw0U11bz0eEVdumkbJe3XQa7\"><div class=\"AlD19d\"> <span class=\"qXLe6d x3G5ab\"> <span class=\"fYyStc\">Elon Musk - New Mexico...</span> </span> <span class=\"qXLe6d F9iS2e\"> <span class=\"fYyStc\">www.nmspacemuseum.org</span> </span> </div></a></td></tr></table></div></div> </div> </div></td><td align=\"center\" class=\"e3goi\"><div class=\"jjVJ4e\"> <div> <div class=\"lIMUZd\"><div><table class=\"RntSmf\"><tr><td><a href=\"/url?q=https://www.wired.com/story/plaintext-elon-musk-happy-child-launching-rockets/&amp;sa=U&amp;ved=2ahUKEwjA3vqovfOFAxX3zjgGHfkaDpcQqoUBegQIDRAB&amp;usg=AOvVaw2xzvthlUeFvFjH-7OIS9Dd\"><div class=\"kCmkOe\"><img alt=\"\" class=\"DS1iW\" src=\"https://encrypted-tbn0.gstatic.com/images?q=tbn:ANd9GcQoVC24-iwfmg1ynOoPkfB6fTOMKA4IEscvasg7lr_QSTQQIUU8Gq65d0EOoQ&amp;s\"/></div></a></td></tr><tr><td><a href=\"/url?q=https://www.wired.com/story/plaintext-elon-musk-happy-child-launching-rockets/&amp;sa=U&amp;ved=2ahUKEwjA3vqovfOFAxX3zjgGHfkaDpcQr4kDegQIDRAC&amp;usg=AOvVaw0bLlojqtdUPPE-YiXecDtL\"><div class=\"AlD19d\"> <span class=\"qXLe6d x3G5ab\"> <span class=\"fYyStc\">If Elon Musk Had Been a...</span> </span> <span class=\"qXLe6d F9iS2e\"> <span class=\"fYyStc\">www.wired.com</span> </span> </div></a></td></tr></table></div></div> </div> </div></td><td align=\"center\" class=\"e3goi\"><div class=\"jjVJ4e\"> <div> <div class=\"lIMUZd\"><div><table class=\"RntSmf\"><tr><td><a href=\"/url?q=https://abcnews.go.com/Business/timeline-elon-musks-tumultuous-twitter-acquisition-attempt/story%3Fid%3D86611191&amp;sa=U&amp;ved=2ahUKEwjA3vqovfOFAxX3zjgGHfkaDpcQqoUBegQICxAB&amp;usg=AOvVaw2xhI82OmoMvpT1p_jriMJl\"><div class=\"kCmkOe\"><img alt=\"\" class=\"DS1iW\" src=\"https://encrypted-tbn0.gstatic.com/images?q=tbn:ANd9GcQxxXJApMGeYRggoDkuRm8YyWMj_X2JnoNtYxHx-vilYFihA4Yu1tmlFqPEjPc&amp;s\"/></div></a></td></tr><tr><td><a href=\"/url?q=https://abcnews.go.com/Business/timeline-elon-musks-tumultuous-twitter-acquisition-attempt/story%3Fid%3D86611191&amp;sa=U&amp;ved=2ahUKEwjA3vqovfOFAxX3zjgGHfkaDpcQr4kDegQICxAC&amp;usg=AOvVaw1CA8GtS83vroUalNVVtRf5\"><div class=\"AlD19d\"> <span class=\"qXLe6d x3G5ab\"> <span class=\"fYyStc\">A timeline of Elon Musk's...</span> </span> <span class=\"qXLe6d F9iS2e\"> <span class=\"fYyStc\">abcnews.go.com</span> </span> </div></a></td></tr></table></div></div> </div> </div></td></tr><tr><td align=\"center\" class=\"e3goi\"><div class=\"jjVJ4e\"> <div> <div class=\"lIMUZd\"><div><table class=\"RntSmf\"><tr><td><a href=\"/url?q=https://www.britannica.com/money/Elon-Musk&amp;sa=U&amp;ved=2ahUKEwjA3vqovfOFAxX3zjgGHfkaDpcQqoUBegQIChAB&amp;usg=AOvVaw0UTf-zPg4KvwaabXL79RfL\"><div class=\"kCmkOe\"><img alt=\"\" class=\"DS1iW\" src=\"https://encrypted-tbn0.gstatic.com/images?q=tbn:ANd9GcS6mPr1g683xgMlTnJfswzPyIjixDUJCLKR_GUOYd43dGj0LB8Uum64r_cOjl4&amp;s\"/></div></a></td></tr><tr><td><a href=\"/url?q=https://www.britannica.com/money/Elon-Musk&amp;sa=U&amp;ved=2ahUKEwjA3vqovfOFAxX3zjgGHfkaDpcQr4kDegQIChAC&amp;usg=AOvVaw3sxA2lUQENRUANFk6oVNXL\"><div class=\"AlD19d\"> <span class=\"qXLe6d x3G5ab\"> <span class=\"fYyStc\">Elon Musk | Biography,...</span> </span> <span class=\"qXLe6d F9iS2e\"> <span class=\"fYyStc\">www.britannica.com</span> </span> </div></a></td></tr></table></div></div> </div> </div></td><td align=\"center\" class=\"e3goi\"><div class=\"jjVJ4e\"> <div> <div class=\"lIMUZd\"><div><table class=\"RntSmf\"><tr><td><a href=\"/url?q=https://m.economictimes.com/news/international/world-news/elon-musk-lays-off-tesla-senior-executives-in-fresh-job-cuts-report/articleshow/109715882.cms&amp;sa=U&amp;ved=2ahUKEwjA3vqovfOFAxX3zjgGHfkaDpcQqoUBegQIDhAB&amp;usg=AOvVaw2TtjfcpXgEm87vp5e2F9VG\"><div class=\"kCmkOe\"><img alt=\"\" class=\"DS1iW\" src=\"https://encrypted-tbn0.gstatic.com/images?q=tbn:ANd9GcQWdBqSacfQHjzjsXAfgN4Sm6vYtnFMt1c9zGSilby9KHP8mOXdmdxclVEjtg&amp;s\"/></div></a></td></tr><tr><td><a href=\"/url?q=https://m.economictimes.com/news/international/world-news/elon-musk-lays-off-tesla-senior-executives-in-fresh-job-cuts-report/articleshow/109715882.cms&amp;sa=U&amp;ved=2ahUKEwjA3vqovfOFAxX3zjgGHfkaDpcQr4kDegQIDhAC&amp;usg=AOvVaw2wrn6Voadh3Ceyl8QTk29p\"><div class=\"AlD19d\"> <span class=\"qXLe6d x3G5ab\"> <span class=\"fYyStc\">tesla layoffs: Elon Musk...</span> </span> <span class=\"qXLe6d F9iS2e\"> <span class=\"fYyStc\">m.economictimes.com</span> </span> </div></a></td></tr></table></div></div> </div> </div></td><td align=\"center\" class=\"e3goi\"><div class=\"jjVJ4e\"> <div> <div class=\"lIMUZd\"><div><table class=\"RntSmf\"><tr><td><a href=\"/url?q=https://www.simonandschuster.com/books/Elon-Musk/Walter-Isaacson/9781982181284&amp;sa=U&amp;ved=2ahUKEwjA3vqovfOFAxX3zjgGHfkaDpcQqoUBegQIDxAB&amp;usg=AOvVaw3Yp2NQnKCyh8OHETECWbt0\"><div class=\"kCmkOe\"><img alt=\"\" class=\"DS1iW\" src=\"https://encrypted-tbn0.gstatic.com/images?q=tbn:ANd9GcRWMApWXXjSxU9pPLomu4UFl7OiE5co02ZAdSY3IimvN990OGltqDA_GHYLoKU&amp;s\"/></div></a></td></tr><tr><td><a href=\"/url?q=https://www.simonandschuster.com/books/Elon-Musk/Walter-Isaacson/9781982181284&amp;sa=U&amp;ved=2ahUKEwjA3vqovfOFAxX3zjgGHfkaDpcQr4kDegQIDxAC&amp;usg=AOvVaw10972clE8tg3fRqE_jAAsp\"><div class=\"AlD19d\"> <span class=\"qXLe6d x3G5ab\"> <span class=\"fYyStc\">Elon Musk | Book by Walter...</span> </span> <span class=\"qXLe6d F9iS2e\"> <span class=\"fYyStc\">www.simonandschuster.com</span> </span> </div></a></td></tr></table></div></div> </div> </div></td><td align=\"center\" class=\"e3goi\"><div class=\"jjVJ4e\"> <div> <div class=\"lIMUZd\"><div><table class=\"RntSmf\"><tr><td><a href=\"/url?q=https://www.rollingstone.com/culture/culture-news/elon-musk-says-find-new-twitter-ceo-2023-1234680357/&amp;sa=U&amp;ved=2ahUKEwjA3vqovfOFAxX3zjgGHfkaDpcQqoUBegQIDBAB&amp;usg=AOvVaw3Y0btSeOlAWPOMyJkr0k6-\"><div class=\"kCmkOe\"><img alt=\"\" class=\"DS1iW\" src=\"https://encrypted-tbn0.gstatic.com/images?q=tbn:ANd9GcSwq0dm9LsIJFXhVpVi2-xb2VQSTdG7Tb92l9AIyKFFgrYonh1FnTbuvi-3Cw&amp;s\"/></div></a></td></tr><tr><td><a href=\"/url?q=https://www.rollingstone.com/culture/culture-news/elon-musk-says-find-new-twitter-ceo-2023-1234680357/&amp;sa=U&amp;ved=2ahUKEwjA3vqovfOFAxX3zjgGHfkaDpcQr4kDegQIDBAC&amp;usg=AOvVaw3N_j9TaOMGtPsFwi7WZvud\"><div class=\"AlD19d\"> <span class=\"qXLe6d x3G5ab\"> <span class=\"fYyStc\">Elon Musk Says He Wants New...</span> </span> <span class=\"qXLe6d F9iS2e\"> <span class=\"fYyStc\">www.rollingstone.com</span> </span> </div></a></td></tr></table></div></div> </div> </div></td></tr><tr><td align=\"center\" class=\"e3goi\"><div class=\"jjVJ4e\"> <div> <div class=\"lIMUZd\"><div><table class=\"RntSmf\"><tr><td><a href=\"/url?q=https://www.investopedia.com/articles/personal-finance/061015/how-elon-musk-became-elon-musk.asp&amp;sa=U&amp;ved=2ahUKEwjA3vqovfOFAxX3zjgGHfkaDpcQqoUBegQIBRAB&amp;usg=AOvVaw1_coHqj2hAPg636f878Ryg\"><div class=\"kCmkOe\"><img alt=\"\" class=\"DS1iW\" src=\"https://encrypted-tbn0.gstatic.com/images?q=tbn:ANd9GcRxf-Jbkdb6IZIh7oNtWyJhYtw3Kg80gamyGyRHZS8klkCrAzThS_D2ymM47A&amp;s\"/></div></a></td></tr><tr><td><a href=\"/url?q=https://www.investopedia.com/articles/personal-finance/061015/how-elon-musk-became-elon-musk.asp&amp;sa=U&amp;ved=2ahUKEwjA3vqovfOFAxX3zjgGHfkaDpcQr4kDegQIBRAC&amp;usg=AOvVaw0Ge683nDzJtMTygs_qiujX\"><div class=\"AlD19d\"> <span class=\"qXLe6d x3G5ab\"> <span class=\"fYyStc\">Who Is Elon Musk?</span> </span> <span class=\"qXLe6d F9iS2e\"> <span class=\"fYyStc\">www.investopedia.com</span> </span> </div></a></td></tr></table></div></div> </div> </div></td><td align=\"center\" class=\"e3goi\"><div class=\"jjVJ4e\"> <div> <div class=\"lIMUZd\"><div><table class=\"RntSmf\"><tr><td><a href=\"/url?q=https://www.cnn.com/2024/04/19/cars/india-elon-musk-visit-investment-intl-hnk/index.html&amp;sa=U&amp;ved=2ahUKEwjA3vqovfOFAxX3zjgGHfkaDpcQqoUBegQIBxAB&amp;usg=AOvVaw1Gs2cEV8uwAC6fX3JtYaEl\"><div class=\"kCmkOe\"><img alt=\"\" class=\"DS1iW\" src=\"https://encrypted-tbn0.gstatic.com/images?q=tbn:ANd9GcTx6_SyXe8aBE2jkB5HA3SwHpWVPQRJK8fLGJi9Few3LrDTVY-hGZMjrTuAEQ&amp;s\"/></div></a></td></tr><tr><td><a href=\"/url?q=https://www.cnn.com/2024/04/19/cars/india-elon-musk-visit-investment-intl-hnk/index.html&amp;sa=U&amp;ved=2ahUKEwjA3vqovfOFAxX3zjgGHfkaDpcQr4kDegQIBxAC&amp;usg=AOvVaw2N2eQqEjfHg59QNLvxYuix\"><div class=\"AlD19d\"> <span class=\"qXLe6d x3G5ab\"> <span class=\"fYyStc\">Elon Musk is heading to...</span> </span> <span class=\"qXLe6d F9iS2e\"> <span class=\"fYyStc\">www.cnn.com</span> </span> </div></a></td></tr></table></div></div> </div> </div></td><td align=\"center\" class=\"e3goi\"><div class=\"jjVJ4e\"> <div> <div class=\"lIMUZd\"><div><table class=\"RntSmf\"><tr><td><a href=\"/url?q=https://www.newscientist.com/article/2342446-the-elon-musk-show-review-searching-for-the-man-who-is-elon-musk/&amp;sa=U&amp;ved=2ahUKEwjA3vqovfOFAxX3zjgGHfkaDpcQqoUBegQIBBAB&amp;usg=AOvVaw1_Mi03sY7ZaSNpd78pNsBW\"><div class=\"kCmkOe\"><img alt=\"\" class=\"DS1iW\" src=\"https://encrypted-tbn0.gstatic.com/images?q=tbn:ANd9GcQkqgOWpGbsjvlfXgAzldcUv97Lh_0WqwpXwlrwCzhWF2YHLJO7PQgFKZR7gSg&amp;s\"/></div></a></td></tr><tr><td><a href=\"/url?q=https://www.newscientist.com/article/2342446-the-elon-musk-show-review-searching-for-the-man-who-is-elon-musk/&amp;sa=U&amp;ved=2ahUKEwjA3vqovfOFAxX3zjgGHfkaDpcQr4kDegQIBBAC&amp;usg=AOvVaw393Iq6sIYQWSL4kqv5tOGF\"><div class=\"AlD19d\"> <span class=\"qXLe6d x3G5ab\"> <span class=\"fYyStc\">The Elon Musk Show review:...</span> </span> <span class=\"qXLe6d F9iS2e\"> <span class=\"fYyStc\">www.newscientist.com</span> </span> </div></a></td></tr></table></div></div> </div> </div></td><td align=\"center\" class=\"e3goi\"><div class=\"jjVJ4e\"> <div> <div class=\"lIMUZd\"><div><table class=\"RntSmf\"><tr><td><a href=\"/url?q=https://www.rollingstone.com/culture/culture-features/elon-musk-the-architect-of-tomorrow-120850/&amp;sa=U&amp;ved=2ahUKEwjA3vqovfOFAxX3zjgGHfkaDpcQqoUBegQIAxAB&amp;usg=AOvVaw0fjEtEzwXcssgi1bo3HHu7\"><div class=\"kCmkOe\"><img alt=\"\" class=\"DS1iW\" src=\"https://encrypted-tbn0.gstatic.com/images?q=tbn:ANd9GcQOT3P9YTxYyjvEdqbs3Hl9V9QbfMz8hp6pHVkRcVGvdgF2GKdXsc5LDyC6&amp;s\"/></div></a></td></tr><tr><td><a href=\"/url?q=https://www.rollingstone.com/culture/culture-features/elon-musk-the-architect-of-tomorrow-120850/&amp;sa=U&amp;ved=2ahUKEwjA3vqovfOFAxX3zjgGHfkaDpcQr4kDegQIAxAC&amp;usg=AOvVaw0ETmGKNrC1Wt9dGiQezBEv\"><div class=\"AlD19d\"> <span class=\"qXLe6d x3G5ab\"> <span class=\"fYyStc\">Elon Musk: Inventor's Plans...</span> </span> <span class=\"qXLe6d F9iS2e\"> <span class=\"fYyStc\">www.rollingstone.com</span> </span> </div></a></td></tr></table></div></div> </div> </div></td></tr><tr><td align=\"center\" class=\"e3goi\"><div class=\"jjVJ4e\"> <div> <div class=\"lIMUZd\"><div><table class=\"RntSmf\"><tr><td><a href=\"/url?q=https://hypebeast.com/2024/5/elon-musk-tesla-job-cuts-massive-layoffs&amp;sa=U&amp;ved=2ahUKEwjA3vqovfOFAxX3zjgGHfkaDpcQqoUBegQIARAB&amp;usg=AOvVaw33ibCAGksVDwRBnFWm9_ap\"><div class=\"kCmkOe\"><img alt=\"\" class=\"DS1iW\" src=\"https://encrypted-tbn0.gstatic.com/images?q=tbn:ANd9GcQPY1b8ZPGGNUEktXEbviuFUabsy0u7VqbIXEh2s9IIYn6EPfyw_CligCFxzfE&amp;s\"/></div></a></td></tr><tr><td><a href=\"/url?q=https://hypebeast.com/2024/5/elon-musk-tesla-job-cuts-massive-layoffs&amp;sa=U&amp;ved=2ahUKEwjA3vqovfOFAxX3zjgGHfkaDpcQr4kDegQIARAC&amp;usg=AOvVaw13Rgleu03lz0fIlyS_0IgG\"><div class=\"AlD19d\"> <span class=\"qXLe6d x3G5ab\"> <span class=\"fYyStc\">Elon Musk Is Going...</span> </span> <span class=\"qXLe6d F9iS2e\"> <span class=\"fYyStc\">hypebeast.com</span> </span> </div></a></td></tr></table></div></div> </div> </div></td><td align=\"center\" class=\"e3goi\"><div class=\"jjVJ4e\"> <div> <div class=\"lIMUZd\"><div><table class=\"RntSmf\"><tr><td><a href=\"/url?q=https://www.foxbusiness.com/technology/elon-musk-sues-indian-battery-company-tesla-power-trademark-infringement&amp;sa=U&amp;ved=2ahUKEwjA3vqovfOFAxX3zjgGHfkaDpcQqoUBegQIABAB&amp;usg=AOvVaw31Tmeuz1a5yeueTmd29ADt\"><div class=\"kCmkOe\"><img alt=\"\" class=\"DS1iW\" src=\"https://encrypted-tbn0.gstatic.com/images?q=tbn:ANd9GcT9vnfKEgr2GdCqweKtM5USlp1W8gbXTz3l-lq-GIZmU807VgU0m0JHJBaB6dI&amp;s\"/></div></a></td></tr><tr><td><a href=\"/url?q=https://www.foxbusiness.com/technology/elon-musk-sues-indian-battery-company-tesla-power-trademark-infringement&amp;sa=U&amp;ved=2ahUKEwjA3vqovfOFAxX3zjgGHfkaDpcQr4kDegQIABAC&amp;usg=AOvVaw3Ahhx0kCmboVKK4xtKYcyL\"><div class=\"AlD19d\"> <span class=\"qXLe6d x3G5ab\"> <span class=\"fYyStc\">Elon Musk sues Indian...</span> </span> <span class=\"qXLe6d F9iS2e\"> <span class=\"fYyStc\">www.foxbusiness.com</span> </span> </div></a></td></tr></table></div></div> </div> </div></td><td align=\"center\" class=\"e3goi\"><div class=\"jjVJ4e\"> <div> <div class=\"lIMUZd\"><div><table class=\"RntSmf\"><tr><td><a href=\"/url?q=https://timesofindia.indiatimes.com/business/international-business/frustrated-by-falling-sales-pace-of-job-cuts-elon-musk-lays-off-tesla-senior-execs-plans-to-dismiss-hundreds-more-employees-report/articleshow/109718472.cms&amp;sa=U&amp;ved=2ahUKEwjA3vqovfOFAxX3zjgGHfkaDpcQqoUBegQICBAB&amp;usg=AOvVaw3r_dTf765zEgvr6XRsiU_V\"><div class=\"kCmkOe\"><img alt=\"\" class=\"DS1iW\" src=\"https://encrypted-tbn0.gstatic.com/images?q=tbn:ANd9GcR0S1Xg7CSo2tFJywzVZg0qHiy-TXly8RwEoMpHb7m9KjZ7kGcfKGA1-ZSQoA&amp;s\"/></div></a></td></tr><tr><td><a href=\"/url?q=https://timesofindia.indiatimes.com/business/international-business/frustrated-by-falling-sales-pace-of-job-cuts-elon-musk-lays-off-tesla-senior-execs-plans-to-dismiss-hundreds-more-employees-report/articleshow/109718472.cms&amp;sa=U&amp;ved=2ahUKEwjA3vqovfOFAxX3zjgGHfkaDpcQr4kDegQICBAC&amp;usg=AOvVaw3PXMNCTX9Z5t6slA4yo2Th\"><div class=\"AlD19d\"> <span class=\"qXLe6d x3G5ab\"> <span class=\"fYyStc\">Frustrated by falling...</span> </span> <span class=\"qXLe6d F9iS2e\"> <span class=\"fYyStc\">timesofindia.indiatimes.com...</span> </span> </div></a></td></tr></table></div></div> </div> </div></td><td align=\"center\" class=\"e3goi\"><div class=\"jjVJ4e\"> <div> <div class=\"lIMUZd\"><div><table class=\"RntSmf\"><tr><td><a href=\"/url?q=https://www.businessinsider.com/elon-musk-twitter-job-offer-swipe-right-persicope-kayvon-beykpour-2024-4&amp;sa=U&amp;ved=2ahUKEwjA3vqovfOFAxX3zjgGHfkaDpcQqoUBegQIAhAB&amp;usg=AOvVaw3Wx8PBLPdbxdj9zYIzCxvd\"><div class=\"kCmkOe\"><img alt=\"\" class=\"DS1iW\" src=\"https://encrypted-tbn0.gstatic.com/images?q=tbn:ANd9GcTSW0_QEi5592N27OWLksWQXLCT3nP4mHlhltYfgJYvYHvba-0yF2Vqn1fKHGE&amp;s\"/></div></a></td></tr><tr><td><a href=\"/url?q=https://www.businessinsider.com/elon-musk-twitter-job-offer-swipe-right-persicope-kayvon-beykpour-2024-4&amp;sa=U&amp;ved=2ahUKEwjA3vqovfOFAxX3zjgGHfkaDpcQr4kDegQIAhAC&amp;usg=AOvVaw0VMpXhwNZPlbLpTizrHBBU\"><div class=\"AlD19d\"> <span class=\"qXLe6d x3G5ab\"> <span class=\"fYyStc\">Elon Musk Had 'Hilarious'...</span> </span> <span class=\"qXLe6d F9iS2e\"> <span class=\"fYyStc\">www.businessinsider.com</span> </span> </div></a></td></tr></table></div></div> </div> </div></td></tr></table></div><table class=\"uZgmoc\"><tbody><td><a class=\"frGj1b\" href=\"/search?q=elon+musk&amp;sca_esv=7fcdb3edaabbf89a&amp;rlz=1C1RXQR_enIN1020IN1020&amp;biw=1536&amp;bih=730&amp;ie=UTF-8&amp;tbm=isch&amp;ei=c-Q1ZoDZC_ed4-EP-bW4uAk&amp;start=20&amp;sa=N&amp;uds=ADvngMj5Wv8Vv2Ze7WMSqfJvdEJxLcBmFaai7QNsJksHnYtZJygsJ8LnVJ3Xl7GOOsv1NCF4OPMmVCZY-MQYkhKy05732kv5O41lucVMMBSvusbVoM9NadVEawy8qa1f9jwRSMjN5A8Aqhsw6tNTCOQyWfzFZs3tE84PvrTJh6MHT40bVkq2xZWHxJST8BHBb7TSSEQu3SAwSvTSKuwHZbEHSnlb6aSCvyF-0s9ygu0kCamvYu_ZON31VrovX51ya9_dS6jgx-tiW8HDl0aQfKCuXkIZ1mI3hcxqECEL5ktM0Pn2HHz8hck\">Next &gt;</a></td></tbody></table><br/><div class=\"TuS8Ad\" data-ved=\"0ahUKEwjA3vqovfOFAxX3zjgGHfkaDpcQpyoIUg\"><style>.VYM29{font-weight:bold}</style><div align=\"center\" class=\"HddGcc\"><span class=\"VYM29\">226010, Uttar Pradesh</span><span> - </span><span>From your IP address</span><span> - </span><a href=\"/url?q=https://support.google.com/websearch%3Fp%3Dws_settings_location%26hl%3Den-IN&amp;opi=89978449&amp;sa=U&amp;ved=0ahUKEwjA3vqovfOFAxX3zjgGHfkaDpcQty4IUw&amp;usg=AOvVaw1XV-2-K5ziXguy-yl2GZNQ\">Learn more</a></div><div align=\"center\"><a class=\"rEM8G\" href=\"/url?q=https://accounts.google.com/ServiceLogin%3Fcontinue%3Dhttps://www.google.com/search%253Fsca_esv%253D7fcdb3edaabbf89a%2526rlz%253D1C1RXQR_enIN1020IN1020%2526sxsrf%253DADLYWIJ6MfEmaNUOoxM4X3X7hnUtsE1qsA:1714807140153%2526q%253Delon%252Bmusk%2526uds%253DADvngMj5Wv8Vv2Ze7WMSqfJvdEJxLcBmFaai7QNsJksHnYtZJygsJ8LnVJ3Xl7GOOsv1NCF4OPMmVCZY-MQYkhKy05732kv5O41lucVMMBSvusbVoM9NadVEawy8qa1f9jwRSMjN5A8Aqhsw6tNTCOQyWfzFZs3tE84PvrTJh6MHT40bVkq2xZWHxJST8BHBb7TSSEQu3SAwSvTSKuwHZbEHSnlb6aSCvyF-0s9ygu0kCamvYu_ZON31VrovX51ya9_dS6jgx-tiW8HDl0aQfKCuXkIZ1mI3hcxqECEL5ktM0Pn2HHz8hck%2526prmd%253Dnivsmbtz%2526sa%253DX%2526ved%253D2ahUKEwjNs8mzuvOFAxUccWwGHQ0xBvQQtKgLegQIDBAB%2526biw%253D1536%2526bih%253D730%2526dpr%253D1.25%2526tbm%253Disch%26hl%3Den&amp;opi=89978449&amp;sa=U&amp;ved=0ahUKEwjA3vqovfOFAxX3zjgGHfkaDpcQxs8CCFQ&amp;usg=AOvVaw3dYFkkKGqE_aF67RZVCHzR\">Sign in</a></div><div><table class=\"bookcf\"><tbody class=\"InWNIe\"><tr><td><a class=\"rEM8G\" href=\"https://www.google.com/preferences?hl=en&amp;sa=X&amp;ved=0ahUKEwjA3vqovfOFAxX3zjgGHfkaDpcQv5YECFU\">Settings</a></td><td><a class=\"rEM8G\" href=\"https://www.google.com/intl/en_in/policies/privacy/\">Privacy</a></td><td><a class=\"rEM8G\" href=\"https://www.google.com/intl/en_in/policies/terms/\">Terms</a></td></tr></tbody></table></div></div><div> </div></body></html>"
      ]
     },
     "execution_count": 11,
     "metadata": {},
     "output_type": "execute_result"
    }
   ],
   "source": [
    "soup"
   ]
  },
  {
   "cell_type": "code",
   "execution_count": 15,
   "id": "e8ea834e-2caf-4d12-916a-432aa079408d",
   "metadata": {},
   "outputs": [],
   "source": [
    "image_tags = soup.find_all(\"img\")"
   ]
  },
  {
   "cell_type": "code",
   "execution_count": 16,
   "id": "15e980a9-f2c5-4236-9b6d-bc9c8ca8f110",
   "metadata": {},
   "outputs": [
    {
     "data": {
      "text/plain": [
       "[<img alt=\"Google\" class=\"kgJEQe\" src=\"/images/branding/searchlogo/1x/googlelogo_desk_heirloom_color_150x55dp.gif\"/>,\n",
       " <img alt=\"\" class=\"DS1iW\" src=\"https://encrypted-tbn0.gstatic.com/images?q=tbn:ANd9GcQWIm8IhNbQ8cHHkx25dbTK7_RaRK8DrRrK4GrR4wyApiAsBJPUbhsa7ICjKg&amp;s\"/>,\n",
       " <img alt=\"\" class=\"DS1iW\" src=\"https://encrypted-tbn0.gstatic.com/images?q=tbn:ANd9GcQY_R5NSNoZkSlMo3hf86COGJ4fCv0s6Nx4k8uCGkWc6YGOn_m4-rIOQ3GhOhg&amp;s\"/>,\n",
       " <img alt=\"\" class=\"DS1iW\" src=\"https://encrypted-tbn0.gstatic.com/images?q=tbn:ANd9GcTTO0bYn7LKOBzOMJRp9mXeD2scBnuMtPGfQYqjaBoxMHMtDToYys4awIx7ou8&amp;s\"/>,\n",
       " <img alt=\"\" class=\"DS1iW\" src=\"https://encrypted-tbn0.gstatic.com/images?q=tbn:ANd9GcTgjHQAVrJsAsWEK6K8u9ZyH4PUENz2q9xBs-pEuAQrcR5x4cbvpGy_1wfS0A&amp;s\"/>,\n",
       " <img alt=\"\" class=\"DS1iW\" src=\"https://encrypted-tbn0.gstatic.com/images?q=tbn:ANd9GcSWquD3V9PShopfxR5z4mBgB3IZnXGWVDSQM_48N0nbiI_0DYg43GVIktea3Uc&amp;s\"/>,\n",
       " <img alt=\"\" class=\"DS1iW\" src=\"https://encrypted-tbn0.gstatic.com/images?q=tbn:ANd9GcSjJei_3RFcnMaHSuWdLGH0p6RssgNveUT0ha8zZLaPf5nAvJfIa9T9pOZL978&amp;s\"/>,\n",
       " <img alt=\"\" class=\"DS1iW\" src=\"https://encrypted-tbn0.gstatic.com/images?q=tbn:ANd9GcQoVC24-iwfmg1ynOoPkfB6fTOMKA4IEscvasg7lr_QSTQQIUU8Gq65d0EOoQ&amp;s\"/>,\n",
       " <img alt=\"\" class=\"DS1iW\" src=\"https://encrypted-tbn0.gstatic.com/images?q=tbn:ANd9GcQxxXJApMGeYRggoDkuRm8YyWMj_X2JnoNtYxHx-vilYFihA4Yu1tmlFqPEjPc&amp;s\"/>,\n",
       " <img alt=\"\" class=\"DS1iW\" src=\"https://encrypted-tbn0.gstatic.com/images?q=tbn:ANd9GcS6mPr1g683xgMlTnJfswzPyIjixDUJCLKR_GUOYd43dGj0LB8Uum64r_cOjl4&amp;s\"/>,\n",
       " <img alt=\"\" class=\"DS1iW\" src=\"https://encrypted-tbn0.gstatic.com/images?q=tbn:ANd9GcQWdBqSacfQHjzjsXAfgN4Sm6vYtnFMt1c9zGSilby9KHP8mOXdmdxclVEjtg&amp;s\"/>,\n",
       " <img alt=\"\" class=\"DS1iW\" src=\"https://encrypted-tbn0.gstatic.com/images?q=tbn:ANd9GcRWMApWXXjSxU9pPLomu4UFl7OiE5co02ZAdSY3IimvN990OGltqDA_GHYLoKU&amp;s\"/>,\n",
       " <img alt=\"\" class=\"DS1iW\" src=\"https://encrypted-tbn0.gstatic.com/images?q=tbn:ANd9GcSwq0dm9LsIJFXhVpVi2-xb2VQSTdG7Tb92l9AIyKFFgrYonh1FnTbuvi-3Cw&amp;s\"/>,\n",
       " <img alt=\"\" class=\"DS1iW\" src=\"https://encrypted-tbn0.gstatic.com/images?q=tbn:ANd9GcRxf-Jbkdb6IZIh7oNtWyJhYtw3Kg80gamyGyRHZS8klkCrAzThS_D2ymM47A&amp;s\"/>,\n",
       " <img alt=\"\" class=\"DS1iW\" src=\"https://encrypted-tbn0.gstatic.com/images?q=tbn:ANd9GcTx6_SyXe8aBE2jkB5HA3SwHpWVPQRJK8fLGJi9Few3LrDTVY-hGZMjrTuAEQ&amp;s\"/>,\n",
       " <img alt=\"\" class=\"DS1iW\" src=\"https://encrypted-tbn0.gstatic.com/images?q=tbn:ANd9GcQkqgOWpGbsjvlfXgAzldcUv97Lh_0WqwpXwlrwCzhWF2YHLJO7PQgFKZR7gSg&amp;s\"/>,\n",
       " <img alt=\"\" class=\"DS1iW\" src=\"https://encrypted-tbn0.gstatic.com/images?q=tbn:ANd9GcQOT3P9YTxYyjvEdqbs3Hl9V9QbfMz8hp6pHVkRcVGvdgF2GKdXsc5LDyC6&amp;s\"/>,\n",
       " <img alt=\"\" class=\"DS1iW\" src=\"https://encrypted-tbn0.gstatic.com/images?q=tbn:ANd9GcQPY1b8ZPGGNUEktXEbviuFUabsy0u7VqbIXEh2s9IIYn6EPfyw_CligCFxzfE&amp;s\"/>,\n",
       " <img alt=\"\" class=\"DS1iW\" src=\"https://encrypted-tbn0.gstatic.com/images?q=tbn:ANd9GcT9vnfKEgr2GdCqweKtM5USlp1W8gbXTz3l-lq-GIZmU807VgU0m0JHJBaB6dI&amp;s\"/>,\n",
       " <img alt=\"\" class=\"DS1iW\" src=\"https://encrypted-tbn0.gstatic.com/images?q=tbn:ANd9GcR0S1Xg7CSo2tFJywzVZg0qHiy-TXly8RwEoMpHb7m9KjZ7kGcfKGA1-ZSQoA&amp;s\"/>,\n",
       " <img alt=\"\" class=\"DS1iW\" src=\"https://encrypted-tbn0.gstatic.com/images?q=tbn:ANd9GcTSW0_QEi5592N27OWLksWQXLCT3nP4mHlhltYfgJYvYHvba-0yF2Vqn1fKHGE&amp;s\"/>]"
      ]
     },
     "execution_count": 16,
     "metadata": {},
     "output_type": "execute_result"
    }
   ],
   "source": [
    "image_tags"
   ]
  },
  {
   "cell_type": "code",
   "execution_count": 17,
   "id": "d0ca03a5-a33c-43c1-ae08-7887fe82ead8",
   "metadata": {},
   "outputs": [],
   "source": [
    "del image_tags[0]"
   ]
  },
  {
   "cell_type": "code",
   "execution_count": 18,
   "id": "cc24ab36-386a-47be-a770-ed72063cec8e",
   "metadata": {},
   "outputs": [
    {
     "data": {
      "text/plain": [
       "20"
      ]
     },
     "execution_count": 18,
     "metadata": {},
     "output_type": "execute_result"
    }
   ],
   "source": [
    "len(image_tags)"
   ]
  },
  {
   "cell_type": "code",
   "execution_count": 22,
   "id": "908c27e5-db9b-4b42-91dd-5c15a0887992",
   "metadata": {},
   "outputs": [],
   "source": [
    "for i in image_tags:\n",
    "    image_url = i[\"src\"]\n",
    "    image_data = requests.get(image_url).content\n",
    "    with open(os.path.join(save_dir , f\"{query}_{image_tags.index(i)}.jpg\"),\"wb\") as f:\n",
    "        f.write(image_data)"
   ]
  },
  {
   "cell_type": "code",
   "execution_count": null,
   "id": "e30b5da4-31a0-4220-822a-562abcae19da",
   "metadata": {},
   "outputs": [],
   "source": []
  },
  {
   "cell_type": "code",
   "execution_count": null,
   "id": "a8626bd2-7dd6-47f2-85db-07fb8749fd69",
   "metadata": {},
   "outputs": [],
   "source": []
  }
 ],
 "metadata": {
  "kernelspec": {
   "display_name": "Python 3 (ipykernel)",
   "language": "python",
   "name": "python3"
  },
  "language_info": {
   "codemirror_mode": {
    "name": "ipython",
    "version": 3
   },
   "file_extension": ".py",
   "mimetype": "text/x-python",
   "name": "python",
   "nbconvert_exporter": "python",
   "pygments_lexer": "ipython3",
   "version": "3.8.17"
  }
 },
 "nbformat": 4,
 "nbformat_minor": 5
}
